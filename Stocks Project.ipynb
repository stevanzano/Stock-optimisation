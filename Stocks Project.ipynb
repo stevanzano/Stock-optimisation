{
 "cells": [
  {
   "cell_type": "code",
   "execution_count": 2,
   "metadata": {},
   "outputs": [],
   "source": [
    "# importing packages\n",
    "import pandas as pd\n",
    "#from pandas_datareader import data as web\n",
    "import numpy as np\n",
    "from datetime import datetime\n",
    "import matplotlib.pyplot as plt"
   ]
  },
  {
   "cell_type": "code",
   "execution_count": 4,
   "metadata": {
    "scrolled": true
   },
   "outputs": [],
   "source": [
    "# Loading in raw and making changes\n",
    "stock_data_raw = pd.read_csv(\"adjprice.csv\")\n",
    "\n",
    "# If NaN, then either sub 0 or last non 0 price\n",
    "filled_stock_data = stock_data_raw.ffill().bfill()\n",
    "        \n",
    "# If negative, take absolute value\n",
    "# stocks = list(stock_data_raw.columns)\n",
    "# for columns in stocks:\n",
    "#     modify_data = stock_data_raw.loc[stock_data_raw[columns] <= 0]\n",
    "# modify_data\n",
    "\n",
    "\n",
    "# If value too large/small, linearly interpolate \n",
    "# Finding potential outliers\n",
    "pct_data_max = filled_stock_data.pct_change().max().tolist()\n",
    "outliers = []\n",
    "for values in pct_data_max:\n",
    "    if values > 3 or values < -3:\n",
    "        outliers.append(values)\n",
    "round_outliers = [round(num, 2) for num in outliers]\n",
    "# print(round_outliers)\n",
    "\n",
    "pct_data = filled_stock_data.pct_change()\n",
    "list_outlier = np.argwhere(pct_data.values>3).tolist()\n",
    "for i in list_outlier:\n",
    "    filled_stock_data.iloc[:,i[1]].replace(filled_stock_data.iloc[i[0],i[1]], np.nan, inplace = True) \n",
    "interpolated_data = filled_stock_data.interpolate()\n",
    "interpolated_data.to_csv(\"validated_data_2.csv\", index = False)"
   ]
  },
  {
   "cell_type": "markdown",
   "metadata": {},
   "source": [
    "### Observations\n",
    "- There are no negative values in the data set.\n",
    "- All the NaN values have been filled with either the latest or earliest price\n",
    "- The highest price changes are `round_outliers`.\n",
    "- There is no significanly sharp decrease in daily stock prices in any company that would act as an outlier\n",
    "- Some stocks only enter the s&p 500 later and some de list after, only to re enter again.\n",
    "- Making the values to 0 will ruin the percentage in stock price increase so not a good idea\n",
    "- Outlier prices / stocks increased more than 3x in a single day were linearly interpolated, using the past 2 days to calculate it."
   ]
  },
  {
   "cell_type": "code",
   "execution_count": null,
   "metadata": {
    "scrolled": true
   },
   "outputs": [],
   "source": [
    "# Variance & Standard Deviation of Portfolio\n",
    "\n",
    "def risk(weights):\n",
    "    # Subsetting the data for the stocks that we choose\n",
    "    subset_data = stock_data.loc[[\"0111145D US Equity\", \"0202445Q US Equity\"]]\n",
    "\n",
    "    # Need the daily returns of each stock\n",
    "    returns = subset_data.pct_change()\n",
    "\n",
    "    # Need the covariance (252 trading days because this only calculates the variance for one day)\n",
    "    cov_matrix_annual = returns.cov() * 252 \n",
    "\n",
    "    # Need the weights\n",
    "    weights = np.array()\n",
    "\n",
    "    # Variance\n",
    "    variance = np.dot( weights.T, np.dot(cov_matrix_annual, weights))\n",
    "\n",
    "    # Standard Deviation\n",
    "    stdev_port = np.sqrt(variance)"
   ]
  },
  {
   "cell_type": "markdown",
   "metadata": {},
   "source": [
    "## Dynamic Weights\n",
    "1) Need a number of stocks to choose in a portfolio\n",
    "2) Need the weights to start off with\n",
    "3) Then change accordingly with risk analysis\n",
    "- Need to keep in mind the changes\n",
    "- Should change every month\n"
   ]
  },
  {
   "cell_type": "code",
   "execution_count": 17,
   "metadata": {
    "scrolled": false
   },
   "outputs": [
    {
     "data": {
      "text/html": [
       "<div>\n",
       "<style scoped>\n",
       "    .dataframe tbody tr th:only-of-type {\n",
       "        vertical-align: middle;\n",
       "    }\n",
       "\n",
       "    .dataframe tbody tr th {\n",
       "        vertical-align: top;\n",
       "    }\n",
       "\n",
       "    .dataframe thead th {\n",
       "        text-align: right;\n",
       "    }\n",
       "</style>\n",
       "<table border=\"1\" class=\"dataframe\">\n",
       "  <thead>\n",
       "    <tr style=\"text-align: right;\">\n",
       "      <th></th>\n",
       "      <th>Return</th>\n",
       "    </tr>\n",
       "  </thead>\n",
       "  <tbody>\n",
       "    <tr>\n",
       "      <th>0</th>\n",
       "      <td>0.996768</td>\n",
       "    </tr>\n",
       "    <tr>\n",
       "      <th>1</th>\n",
       "      <td>0.963620</td>\n",
       "    </tr>\n",
       "    <tr>\n",
       "      <th>2</th>\n",
       "      <td>1.056429</td>\n",
       "    </tr>\n",
       "    <tr>\n",
       "      <th>3</th>\n",
       "      <td>1.089706</td>\n",
       "    </tr>\n",
       "    <tr>\n",
       "      <th>4</th>\n",
       "      <td>1.134003</td>\n",
       "    </tr>\n",
       "    <tr>\n",
       "      <th>5</th>\n",
       "      <td>1.141510</td>\n",
       "    </tr>\n",
       "    <tr>\n",
       "      <th>6</th>\n",
       "      <td>1.173145</td>\n",
       "    </tr>\n",
       "    <tr>\n",
       "      <th>7</th>\n",
       "      <td>1.352266</td>\n",
       "    </tr>\n",
       "    <tr>\n",
       "      <th>8</th>\n",
       "      <td>1.414179</td>\n",
       "    </tr>\n",
       "    <tr>\n",
       "      <th>9</th>\n",
       "      <td>1.410163</td>\n",
       "    </tr>\n",
       "    <tr>\n",
       "      <th>10</th>\n",
       "      <td>1.373467</td>\n",
       "    </tr>\n",
       "    <tr>\n",
       "      <th>11</th>\n",
       "      <td>1.442531</td>\n",
       "    </tr>\n",
       "  </tbody>\n",
       "</table>\n",
       "</div>"
      ],
      "text/plain": [
       "      Return\n",
       "0   0.996768\n",
       "1   0.963620\n",
       "2   1.056429\n",
       "3   1.089706\n",
       "4   1.134003\n",
       "5   1.141510\n",
       "6   1.173145\n",
       "7   1.352266\n",
       "8   1.414179\n",
       "9   1.410163\n",
       "10  1.373467\n",
       "11  1.442531"
      ]
     },
     "execution_count": 17,
     "metadata": {},
     "output_type": "execute_result"
    }
   ],
   "source": [
    "from math import sqrt\n",
    "# Taking in only the stocks that have complete data\n",
    "complete_stock_data = stock_data_raw.dropna(axis = 1).set_index(\"Date\")\n",
    "\n",
    "companies = ['MO US Equity',\n",
    " 'GLW US Equity',\n",
    " 'DDS US Equity',\n",
    " 'BBBY US Equity',\n",
    " 'UIS US Equity',\n",
    " 'EQR US Equity',\n",
    " 'AFL US Equity',\n",
    " 'ALK US Equity',\n",
    " 'IP US Equity',\n",
    " 'PPL US Equity']\n",
    "subset_data_final = complete_stock_data[companies]\n",
    "\n",
    "def dynamic_weights(year_start, month):\n",
    "    # Subsetting the data\n",
    "    date_start = 19940101\n",
    "    if month < 10:\n",
    "        date_end = str(year_start) + '0' + str(month) + '01'\n",
    "    else:\n",
    "        date_end = str(year_start) + str(month) + '01'\n",
    "    date_subset_data = complete_stock_data.loc[date_start:int(date_end), :]\n",
    "    tickers = [col for col in complete_stock_data[companies].columns]\n",
    "    portfolio_returns = []\n",
    "    portfolio_risks = []\n",
    "    sharpe_ratios = []\n",
    "    portfolio_weights = []\n",
    "    RF = 0\n",
    "\n",
    "    returns = date_subset_data[companies].pct_change()\n",
    "    number_of_portfolios = 500\n",
    "\n",
    "    for portfolio in range(number_of_portfolios):\n",
    "        # Generate portfolio random weights\n",
    "        weights = np.random.random_sample(len(tickers))\n",
    "        weights = np.round((weights / np.sum(weights)),3)\n",
    "        portfolio_weights.append(weights)\n",
    "        # Calculate annlualised return\n",
    "        annualised_return = np.sum(returns.mean() * weights) * 252\n",
    "        portfolio_returns.append(annualised_return)\n",
    "        # Matrix covaraince & Portfolio risk calculation\n",
    "        matrix_covariance = returns.cov() * 252\n",
    "        portfolio_variance = np.dot(weights.T, np.dot(matrix_covariance, weights))\n",
    "        portfolio_standard_deviation = sqrt(portfolio_variance)\n",
    "        portfolio_risks.append(portfolio_standard_deviation)\n",
    "        # Sharpe ratio\n",
    "        sharpe_ratio = (annualised_return - RF) / portfolio_standard_deviation\n",
    "        sharpe_ratios.append(sharpe_ratio)\n",
    "\n",
    "    portfolio_returns = np.array(portfolio_returns)\n",
    "    portfolio_risks = np.array(portfolio_risks)\n",
    "    sharpe_ratios = np.array(sharpe_ratios)\n",
    "\n",
    "    portfolio_metrics = [portfolio_returns, portfolio_risks, sharpe_ratios, portfolio_weights]\n",
    "\n",
    "    portfolios_df = pd.DataFrame(portfolio_metrics).T\n",
    "    portfolios_df.columns = ['Return', 'Risk', 'Sharpe', 'weights']\n",
    "\n",
    "    min_risk = portfolios_df.iloc[portfolios_df['Risk'].astype(float).idxmin()]\n",
    "\n",
    "    highest_return = portfolios_df.iloc[portfolios_df['Return'].astype(float).idxmax()]\n",
    "\n",
    "    highest_sharpe = portfolios_df.iloc[portfolios_df['Sharpe'].astype(float).idxmax()]\n",
    "    \n",
    "    return pd.DataFrame(highest_sharpe).iloc[3,0]\n",
    "\n",
    "def weighted_return(year, month):\n",
    "    if month < 10:\n",
    "        date_end = str(year) + '0' + str(month) + '01'\n",
    "    else:\n",
    "        date_end = str(year) + str(month) + '01'\n",
    "    new_month = month + 1\n",
    "    if month == 12:\n",
    "        date_new = str(year+1) + '0101'\n",
    "    elif new_month < 10:\n",
    "        date_new = str(year) + '0' + str(new_month) + '01'\n",
    "    else:\n",
    "        date_new = str(year) + str(new_month) + '01'\n",
    "    ret_data = subset_data_final.loc[[int(date_end), int(date_new)]].pct_change()\n",
    "    weighted_returns = ret_data * dynamic_weights(year, month)\n",
    "    return pd.DataFrame(weighted_returns.sum(axis = 1)).iloc[1,0]\n",
    "    \n",
    "df_2 = pd.DataFrame(columns = ['Return'])\n",
    "for i in range(12):\n",
    "    df_2.loc[i] = weighted_return(2000, i+1)\n",
    "    \n",
    "# Dyanmic Weights\n",
    "df_1 = pd.DataFrame(columns = [companies])\n",
    "for i in range(12):\n",
    "    df_1.loc[i] = dynamic_weights(1995, i+1)\n",
    "    \n",
    "# cumlative return\n",
    "df_3 = df_2 + 1\n",
    "df_4 = df_3.cumprod()\n",
    "\n",
    "df_4"
   ]
  },
  {
   "cell_type": "code",
   "execution_count": 22,
   "metadata": {
    "scrolled": true
   },
   "outputs": [
    {
     "data": {
      "text/plain": [
       "Text(0, 0.5, 'Rate of return ')"
      ]
     },
     "execution_count": 22,
     "metadata": {},
     "output_type": "execute_result"
    },
    {
     "data": {
      "image/png": "[encoded data removed]",
      "text/plain": [
       "<Figure size 432x288 with 1 Axes>"
      ]
     },
     "metadata": {
      "needs_background": "light"
     },
     "output_type": "display_data"
    }
   ],
   "source": [
    "df_4.plot(y = 'Return', use_index = True, marker='o')\n",
    "plt.title('Portfolio rate of return every month for one year in 2000', fontsize=14)\n",
    "plt.xlabel('Month', fontsize=14)\n",
    "plt.ylabel('Rate of return ', fontsize=14)"
   ]
  },
  {
   "cell_type": "code",
   "execution_count": 23,
   "metadata": {},
   "outputs": [
    {
     "data": {
      "text/plain": [
       "['AA US Equity',\n",
       " 'AAPL US Equity',\n",
       " 'ABMD US Equity',\n",
       " 'ABT US Equity',\n",
       " 'ADBE US Equity',\n",
       " 'ADI US Equity',\n",
       " 'ADM US Equity',\n",
       " 'ADP US Equity',\n",
       " 'ADSK US Equity',\n",
       " 'AEP US Equity',\n",
       " 'AES US Equity',\n",
       " 'AFL US Equity',\n",
       " 'AGN US Equity',\n",
       " 'AIG US Equity',\n",
       " 'AJG US Equity',\n",
       " 'ALK US Equity',\n",
       " 'ALL US Equity',\n",
       " 'AMAT US Equity',\n",
       " 'AMD US Equity',\n",
       " 'AMGN US Equity',\n",
       " 'AN US Equity',\n",
       " 'ANDV US Equity',\n",
       " 'AON US Equity',\n",
       " 'AOS US Equity',\n",
       " 'APA US Equity',\n",
       " 'APC US Equity',\n",
       " 'APD US Equity',\n",
       " 'ASH US Equity',\n",
       " 'ATGE US Equity',\n",
       " 'AVP US Equity',\n",
       " 'AVY US Equity',\n",
       " 'AXP US Equity',\n",
       " 'AZO US Equity',\n",
       " 'BA US Equity',\n",
       " 'BAC US Equity',\n",
       " 'BAX US Equity',\n",
       " 'BBBY US Equity',\n",
       " 'BBT US Equity',\n",
       " 'BBY US Equity',\n",
       " 'BC US Equity',\n",
       " 'BCO US Equity',\n",
       " 'BDX US Equity',\n",
       " 'BEN US Equity',\n",
       " 'BF/B US Equity',\n",
       " 'BGG US Equity',\n",
       " 'BHGE US Equity',\n",
       " 'BIG US Equity',\n",
       " 'BIIB US Equity',\n",
       " 'BK US Equity',\n",
       " 'BLL US Equity',\n",
       " 'BMS US Equity',\n",
       " 'BMY US Equity',\n",
       " 'BSET US Equity',\n",
       " 'BSX US Equity',\n",
       " 'BWA US Equity',\n",
       " 'C US Equity',\n",
       " 'CA US Equity',\n",
       " 'CAG US Equity',\n",
       " 'CAH US Equity',\n",
       " 'CAL US Equity',\n",
       " 'CAR US Equity',\n",
       " 'CAT US Equity',\n",
       " 'CB US Equity',\n",
       " 'CBS US Equity',\n",
       " 'CCK US Equity',\n",
       " 'CCL US Equity',\n",
       " 'CDNS US Equity',\n",
       " 'CELG US Equity',\n",
       " 'CERN US Equity',\n",
       " 'CHD US Equity',\n",
       " 'CHK US Equity',\n",
       " 'CI US Equity',\n",
       " 'CINF US Equity',\n",
       " 'CL US Equity',\n",
       " 'CLF US Equity',\n",
       " 'CLX US Equity',\n",
       " 'CMA US Equity',\n",
       " 'CMCSA US Equity',\n",
       " 'CMI US Equity',\n",
       " 'CMS US Equity',\n",
       " 'CNA US Equity',\n",
       " 'CNP US Equity',\n",
       " 'COG US Equity',\n",
       " 'COO US Equity',\n",
       " 'COP US Equity',\n",
       " 'COST US Equity',\n",
       " 'CPB US Equity',\n",
       " 'CR US Equity',\n",
       " 'CSCO US Equity',\n",
       " 'CSX US Equity',\n",
       " 'CTAS US Equity',\n",
       " 'CTB US Equity',\n",
       " 'CTL US Equity',\n",
       " 'CVS US Equity',\n",
       " 'CVX US Equity',\n",
       " 'D US Equity',\n",
       " 'DD US Equity',\n",
       " 'DDS US Equity',\n",
       " 'DE US Equity',\n",
       " 'DHI US Equity',\n",
       " 'DHR US Equity',\n",
       " 'DIS US Equity',\n",
       " 'DLX US Equity',\n",
       " 'DOV US Equity',\n",
       " 'DRE US Equity',\n",
       " 'DTE US Equity',\n",
       " 'DUK US Equity',\n",
       " 'DVN US Equity',\n",
       " 'EA US Equity',\n",
       " 'ECL US Equity',\n",
       " 'ED US Equity',\n",
       " 'EFX US Equity',\n",
       " 'EHC US Equity',\n",
       " 'EIX US Equity',\n",
       " 'EMR US Equity',\n",
       " 'EOG US Equity',\n",
       " 'EQR US Equity',\n",
       " 'EQT US Equity',\n",
       " 'ES US Equity',\n",
       " 'ESRX US Equity',\n",
       " 'ESV US Equity',\n",
       " 'ETN US Equity',\n",
       " 'ETR US Equity',\n",
       " 'EVRG US Equity',\n",
       " 'EXC US Equity',\n",
       " 'EXPD US Equity',\n",
       " 'F US Equity',\n",
       " 'FAST US Equity',\n",
       " 'FDX US Equity',\n",
       " 'FHN US Equity',\n",
       " 'FISV US Equity',\n",
       " 'FITB US Equity',\n",
       " 'FL US Equity',\n",
       " 'FLIR US Equity',\n",
       " 'FLS US Equity',\n",
       " 'FMC US Equity',\n",
       " 'FMCC US Equity',\n",
       " 'FNMA US Equity',\n",
       " 'FOSL US Equity',\n",
       " 'FRT US Equity',\n",
       " 'FTR US Equity',\n",
       " 'GCO US Equity',\n",
       " 'GD US Equity',\n",
       " 'GE US Equity',\n",
       " 'GGP US Equity',\n",
       " 'GHC US Equity',\n",
       " 'GILD US Equity',\n",
       " 'GIS US Equity',\n",
       " 'GLW US Equity',\n",
       " 'GPC US Equity',\n",
       " 'GPS US Equity',\n",
       " 'GT US Equity',\n",
       " 'GWW US Equity',\n",
       " 'HAL US Equity',\n",
       " 'HAS US Equity',\n",
       " 'HBAN US Equity',\n",
       " 'HCP US Equity',\n",
       " 'HD US Equity',\n",
       " 'HES US Equity',\n",
       " 'HFC US Equity',\n",
       " 'HOG US Equity',\n",
       " 'HOLX US Equity',\n",
       " 'HON US Equity',\n",
       " 'HP US Equity',\n",
       " 'HPQ US Equity',\n",
       " 'HRB US Equity',\n",
       " 'HRL US Equity',\n",
       " 'HST US Equity',\n",
       " 'HSY US Equity',\n",
       " 'HUM US Equity',\n",
       " 'IAC US Equity',\n",
       " 'IBM US Equity',\n",
       " 'IDXX US Equity',\n",
       " 'IFF US Equity',\n",
       " 'INTC US Equity',\n",
       " 'INTU US Equity',\n",
       " 'IP US Equity',\n",
       " 'IPG US Equity',\n",
       " 'IR US Equity',\n",
       " 'ITT US Equity',\n",
       " 'ITW US Equity',\n",
       " 'JBHT US Equity',\n",
       " 'JBL US Equity',\n",
       " 'JCI US Equity',\n",
       " 'JCP US Equity',\n",
       " 'JEC US Equity',\n",
       " 'JEF US Equity',\n",
       " 'JNJ US Equity',\n",
       " 'JPM US Equity',\n",
       " 'JWN US Equity',\n",
       " 'K US Equity',\n",
       " 'KBH US Equity',\n",
       " 'KEY US Equity',\n",
       " 'KIM US Equity',\n",
       " 'KLAC US Equity',\n",
       " 'KMB US Equity',\n",
       " 'KO US Equity',\n",
       " 'KR US Equity',\n",
       " 'KSS US Equity',\n",
       " 'KSU US Equity',\n",
       " 'L US Equity',\n",
       " 'LB US Equity',\n",
       " 'LEG US Equity',\n",
       " 'LEN US Equity',\n",
       " 'LLY US Equity',\n",
       " 'LM US Equity',\n",
       " 'LNC US Equity',\n",
       " 'LNT US Equity',\n",
       " 'LOW US Equity',\n",
       " 'LPX US Equity',\n",
       " 'LRCX US Equity',\n",
       " 'LUB US Equity',\n",
       " 'LUV US Equity',\n",
       " 'M US Equity',\n",
       " 'MAS US Equity',\n",
       " 'MAT US Equity',\n",
       " 'MBI US Equity',\n",
       " 'MCD US Equity',\n",
       " 'MCHP US Equity',\n",
       " 'MDP US Equity',\n",
       " 'MDR US Equity',\n",
       " 'MDT US Equity',\n",
       " 'MGM US Equity',\n",
       " 'MHK US Equity',\n",
       " 'MKC US Equity',\n",
       " 'MMC US Equity',\n",
       " 'MMM US Equity',\n",
       " 'MNST US Equity',\n",
       " 'MO US Equity',\n",
       " 'MOS US Equity',\n",
       " 'MRK US Equity',\n",
       " 'MRO US Equity',\n",
       " 'MS US Equity',\n",
       " 'MSFT US Equity',\n",
       " 'MSI US Equity',\n",
       " 'MTB US Equity',\n",
       " 'MTG US Equity',\n",
       " 'MTW US Equity',\n",
       " 'MU US Equity',\n",
       " 'MUR US Equity',\n",
       " 'MXIM US Equity',\n",
       " 'MYL US Equity',\n",
       " 'NAV US Equity',\n",
       " 'NBL US Equity',\n",
       " 'NBR US Equity',\n",
       " 'NC US Equity',\n",
       " 'NE US Equity',\n",
       " 'NEE US Equity',\n",
       " 'NEM US Equity',\n",
       " 'NEU US Equity',\n",
       " 'NI US Equity',\n",
       " 'NKE US Equity',\n",
       " 'NL US Equity',\n",
       " 'NOC US Equity',\n",
       " 'NSC US Equity',\n",
       " 'NTRS US Equity',\n",
       " 'NUE US Equity',\n",
       " 'NWL US Equity',\n",
       " 'NYT US Equity',\n",
       " 'ODP US Equity',\n",
       " 'OI US Equity',\n",
       " 'OKE US Equity',\n",
       " 'OMC US Equity',\n",
       " 'ORCL US Equity',\n",
       " 'ORLY US Equity',\n",
       " 'OXY US Equity',\n",
       " 'PAYX US Equity',\n",
       " 'PBCT US Equity',\n",
       " 'PBI US Equity',\n",
       " 'PCAR US Equity',\n",
       " 'PCG US Equity',\n",
       " 'PCH US Equity',\n",
       " 'PDCO US Equity',\n",
       " 'PEG US Equity',\n",
       " 'PEP US Equity',\n",
       " 'PFE US Equity',\n",
       " 'PG US Equity',\n",
       " 'PGR US Equity',\n",
       " 'PH US Equity',\n",
       " 'PHM US Equity',\n",
       " 'PKI US Equity',\n",
       " 'PNC US Equity',\n",
       " 'PNR US Equity',\n",
       " 'PNW US Equity',\n",
       " 'PPG US Equity',\n",
       " 'PPL US Equity',\n",
       " 'PRGO US Equity',\n",
       " 'PSA US Equity',\n",
       " 'PTC US Equity',\n",
       " 'PVH US Equity',\n",
       " 'PX US Equity',\n",
       " 'QCOM US Equity',\n",
       " 'R US Equity',\n",
       " 'RAD US Equity',\n",
       " 'RCL US Equity',\n",
       " 'RDC US Equity',\n",
       " 'REGN US Equity',\n",
       " 'RF US Equity',\n",
       " 'RHI US Equity',\n",
       " 'RIG US Equity',\n",
       " 'RJF US Equity',\n",
       " 'ROP US Equity',\n",
       " 'ROST US Equity',\n",
       " 'RRC US Equity',\n",
       " 'RRD US Equity',\n",
       " 'RTN US Equity',\n",
       " 'SANM US Equity',\n",
       " 'SBUX US Equity',\n",
       " 'SCG US Equity',\n",
       " 'SCHW US Equity',\n",
       " 'SCI US Equity',\n",
       " 'SHW US Equity',\n",
       " 'SIG US Equity',\n",
       " 'SIVB US Equity',\n",
       " 'SJM US Equity',\n",
       " 'SKY US Equity',\n",
       " 'SLB US Equity',\n",
       " 'SLM US Equity',\n",
       " 'SNA US Equity',\n",
       " 'SNPS US Equity',\n",
       " 'SNV US Equity',\n",
       " 'SO US Equity',\n",
       " 'SPGI US Equity',\n",
       " 'SPXC US Equity',\n",
       " 'SSP US Equity',\n",
       " 'STI US Equity',\n",
       " 'STT US Equity',\n",
       " 'STZ US Equity',\n",
       " 'SVU US Equity',\n",
       " 'SWK US Equity',\n",
       " 'SWKS US Equity',\n",
       " 'SWN US Equity',\n",
       " 'SYK US Equity',\n",
       " 'SYMC US Equity',\n",
       " 'SYY US Equity',\n",
       " 'T US Equity',\n",
       " 'TAP US Equity',\n",
       " 'TER US Equity',\n",
       " 'TEX US Equity',\n",
       " 'TGNA US Equity',\n",
       " 'TGT US Equity',\n",
       " 'THC US Equity',\n",
       " 'TIF US Equity',\n",
       " 'TJX US Equity',\n",
       " 'TKR US Equity',\n",
       " 'TMK US Equity',\n",
       " 'TMO US Equity',\n",
       " 'TROW US Equity',\n",
       " 'TRV US Equity',\n",
       " 'TSN US Equity',\n",
       " 'TSS US Equity',\n",
       " 'TXN US Equity',\n",
       " 'TXT US Equity',\n",
       " 'UDR US Equity',\n",
       " 'UHS US Equity',\n",
       " 'UIS US Equity',\n",
       " 'UN US Equity',\n",
       " 'UNH US Equity',\n",
       " 'UNM US Equity',\n",
       " 'UNP US Equity',\n",
       " 'USB US Equity',\n",
       " 'UTX US Equity',\n",
       " 'VAR US Equity',\n",
       " 'VFC US Equity',\n",
       " 'VMC US Equity',\n",
       " 'VNO US Equity',\n",
       " 'VRTX US Equity',\n",
       " 'VTR US Equity',\n",
       " 'VVI US Equity',\n",
       " 'VZ US Equity',\n",
       " 'WBA US Equity',\n",
       " 'WDC US Equity',\n",
       " 'WEC US Equity',\n",
       " 'WELL US Equity',\n",
       " 'WFC US Equity',\n",
       " 'WHR US Equity',\n",
       " 'WM US Equity',\n",
       " 'WMB US Equity',\n",
       " 'WMT US Equity',\n",
       " 'WOR US Equity',\n",
       " 'WY US Equity',\n",
       " 'X US Equity',\n",
       " 'XEL US Equity',\n",
       " 'XL US Equity',\n",
       " 'XLNX US Equity',\n",
       " 'XOM US Equity',\n",
       " 'XRAY US Equity',\n",
       " 'XRX US Equity',\n",
       " 'YRCW US Equity',\n",
       " 'ZION US Equity']"
      ]
     },
     "execution_count": 23,
     "metadata": {},
     "output_type": "execute_result"
    }
   ],
   "source": [
    "list(complete_stock_data.columns.values)"
   ]
  },
  {
   "cell_type": "code",
   "execution_count": 24,
   "metadata": {},
   "outputs": [
    {
     "data": {
      "text/plain": [
       "['ETN US Equity',\n",
       " 'ORCL US Equity',\n",
       " 'JBHT US Equity',\n",
       " 'RAD US Equity',\n",
       " 'SLB US Equity',\n",
       " 'SPXC US Equity',\n",
       " 'BA US Equity',\n",
       " 'TROW US Equity',\n",
       " 'AOS US Equity',\n",
       " 'PH US Equity']"
      ]
     },
     "execution_count": 24,
     "metadata": {},
     "output_type": "execute_result"
    }
   ],
   "source": [
    "import random\n",
    "random.choices(list(complete_stock_data.columns.values), k = 10)"
   ]
  },
  {
   "cell_type": "code",
   "execution_count": 25,
   "metadata": {},
   "outputs": [],
   "source": [
    "df_5 = pd.DataFrame(columns = ['Return'])\n",
    "for i in range(12):\n",
    "    df_5.loc[i] = weighted_return(2001, i+1)\n",
    "years_2 = df_2.append(df_5, sort =  False).reset_index()"
   ]
  },
  {
   "cell_type": "code",
   "execution_count": 26,
   "metadata": {},
   "outputs": [
    {
     "data": {
      "text/plain": [
       "Text(0, 0.5, 'Rate of return ')"
      ]
     },
     "execution_count": 26,
     "metadata": {},
     "output_type": "execute_result"
    },
    {
     "data": {
      "image/png": "[encoded data removed]",
      "text/plain": [
       "<Figure size 432x288 with 1 Axes>"
      ]
     },
     "metadata": {
      "needs_background": "light"
     },
     "output_type": "display_data"
    }
   ],
   "source": [
    "years_2.plot(y = 'Return', use_index = True, marker='o')\n",
    "plt.title('Portfolio rate of return every month for one year in 2000', fontsize=14)\n",
    "plt.xlabel('Month', fontsize=14)\n",
    "plt.ylabel('Rate of return ', fontsize=14)"
   ]
  },
  {
   "cell_type": "code",
   "execution_count": 27,
   "metadata": {},
   "outputs": [
    {
     "data": {
      "text/plain": [
       "Text(0, 0.5, 'Rate of return ')"
      ]
     },
     "execution_count": 27,
     "metadata": {},
     "output_type": "execute_result"
    },
    {
     "data": {
      "image/png": "[encoded data removed]",
      "text/plain": [
       "<Figure size 432x288 with 1 Axes>"
      ]
     },
     "metadata": {
      "needs_background": "light"
     },
     "output_type": "display_data"
    }
   ],
   "source": [
    "year_2000 = pd.DataFrame(columns = ['Return'])\n",
    "for i in range(12):\n",
    "    year_2000.loc[i] = weighted_return(2000, i+1)\n",
    "year_2001 = pd.DataFrame(columns = ['Return'])\n",
    "for i in range(12):\n",
    "    year_2001.loc[i] = weighted_return(2001, i+1)\n",
    "year_2000_and_2001 = year_2000.append(year_2001, sort =  False).reset_index()\n",
    "year_2000_and_2001.plot(y = 'Return', use_index = True, marker='o')\n",
    "plt.title('Portfolio rate of return every month for two years between 2000-2001', fontsize=14)\n",
    "plt.xlabel('Month', fontsize=14)\n",
    "plt.ylabel('Rate of return ', fontsize=14)"
   ]
  },
  {
   "cell_type": "code",
   "execution_count": null,
   "metadata": {},
   "outputs": [],
   "source": [
    "company_for_example = ['MO US Equity',\n",
    " 'GLW US Equity',\n",
    " 'DDS US Equity',\n",
    " 'BBBY US Equity',\n",
    " 'UIS US Equity',\n",
    " 'EQR US Equity',\n",
    " 'AFL US Equity',\n",
    " 'ALK US Equity',\n",
    " 'IP US Equity',\n",
    " 'PPL US Equity']"
   ]
  },
  {
   "cell_type": "code",
   "execution_count": 6,
   "metadata": {},
   "outputs": [
    {
     "data": {
      "text/plain": [
       "<AxesSubplot:>"
      ]
     },
     "execution_count": 6,
     "metadata": {},
     "output_type": "execute_result"
    },
    {
     "data": {
      "image/png": "[encoded data removed]",
      "text/plain": [
       "<Figure size 432x288 with 1 Axes>"
      ]
     },
     "metadata": {
      "needs_background": "light"
     },
     "output_type": "display_data"
    }
   ],
   "source": [
    "stock_data_raw[\"PPL US Equity\"].plot()"
   ]
  },
  {
   "cell_type": "code",
   "execution_count": 20,
   "metadata": {},
   "outputs": [
    {
     "data": {
      "text/plain": [
       "<AxesSubplot:xlabel='Date'>"
      ]
     },
     "execution_count": 20,
     "metadata": {},
     "output_type": "execute_result"
    },
    {
     "data": {
      "image/png": "[encoded data removed]",
      "text/plain": [
       "<Figure size 432x288 with 1 Axes>"
      ]
     },
     "metadata": {
      "needs_background": "light"
     },
     "output_type": "display_data"
    }
   ],
   "source": [
    "thousand = complete_stock_data.loc[20000101:20050101, :]\n",
    "thousand[\"PPL US Equity\"].plot()"
   ]
  },
  {
   "cell_type": "code",
   "execution_count": 21,
   "metadata": {
    "scrolled": true
   },
   "outputs": [
    {
     "data": {
      "text/plain": [
       "<AxesSubplot:xlabel='Date'>"
      ]
     },
     "execution_count": 21,
     "metadata": {},
     "output_type": "execute_result"
    },
    {
     "data": {
      "image/png": "[encoded data removed]",
      "text/plain": [
       "<Figure size 432x288 with 1 Axes>"
      ]
     },
     "metadata": {
      "needs_background": "light"
     },
     "output_type": "display_data"
    }
   ],
   "source": [
    "thousand[\" US Equity\"].plot()"
   ]
  }
 ],
 "metadata": {
  "kernelspec": {
   "display_name": "Python 3",
   "language": "python",
   "name": "python3"
  },
  "language_info": {
   "codemirror_mode": {
    "name": "ipython",
    "version": 3
   },
   "file_extension": ".py",
   "mimetype": "text/x-python",
   "name": "python",
   "nbconvert_exporter": "python",
   "pygments_lexer": "ipython3",
   "version": "3.8.5"
  }
 },
 "nbformat": 4,
 "nbformat_minor": 4
}
